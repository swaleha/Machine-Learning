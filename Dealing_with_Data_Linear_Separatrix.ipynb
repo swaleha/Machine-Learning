{
  "nbformat": 4,
  "nbformat_minor": 0,
  "metadata": {
    "colab": {
      "name": "Dealing with Data Linear Separatrix.ipynb",
      "provenance": [],
      "collapsed_sections": [],
      "authorship_tag": "ABX9TyNCwrXJIacfOnmrFc4302Q0",
      "include_colab_link": true
    },
    "kernelspec": {
      "name": "python3",
      "display_name": "Python 3"
    }
  },
  "cells": [
    {
      "cell_type": "markdown",
      "metadata": {
        "id": "view-in-github",
        "colab_type": "text"
      },
      "source": [
        "<a href=\"https://colab.research.google.com/github/swaleha/Machine-Learning/blob/master/Dealing_with_Data_Linear_Separatrix.ipynb\" target=\"_parent\"><img src=\"https://colab.research.google.com/assets/colab-badge.svg\" alt=\"Open In Colab\"/></a>"
      ]
    },
    {
      "cell_type": "code",
      "metadata": {
        "id": "gINDkgofCHmZ",
        "colab_type": "code",
        "colab": {
          "base_uri": "https://localhost:8080/",
          "height": 34
        },
        "outputId": "f78e5b6e-ea07-43bd-ad93-0d9e4a946752"
      },
      "source": [
        "from sklearn.datasets import load_iris\n",
        "import numpy as np\n",
        "import keras \n",
        "np.random.seed(10)"
      ],
      "execution_count": 1,
      "outputs": [
        {
          "output_type": "stream",
          "text": [
            "Using TensorFlow backend.\n"
          ],
          "name": "stderr"
        }
      ]
    },
    {
      "cell_type": "code",
      "metadata": {
        "id": "8woNXIo4CZWR",
        "colab_type": "code",
        "colab": {
          "base_uri": "https://localhost:8080/",
          "height": 34
        },
        "outputId": "92ee8ca1-0cc6-41d0-c319-266631ccdb6a"
      },
      "source": [
        "iris = load_iris()\n",
        "print(iris.keys())\n",
        "\n",
        "X = iris['data'] # array([[5.1, 3.5, 1.4, 0.2],\n",
        "                 #          [4.9, 3., 1.4, 0.2],\n",
        "Y = iris['target'] # array ([0, 1, 2, 0, 1, .....])\n",
        "names = iris['target_names']    # setosa, versicolor and virginica\n",
        "feature_names = iris['feature_names'] # sepal length (cm)\n",
        "                                      # sepal width (cm)\n",
        "                                      # petal length (cm)\n",
        "                                      # petal width (cm)\n",
        "\n",
        "# Track a few example points\n",
        "isamples = np.random.randint(len(Y), size=(5))  # array ([9, 125, 15, 64, 113]) <- random samples"
      ],
      "execution_count": 2,
      "outputs": [
        {
          "output_type": "stream",
          "text": [
            "dict_keys(['data', 'target', 'target_names', 'DESCR', 'feature_names', 'filename'])\n"
          ],
          "name": "stdout"
        }
      ]
    },
    {
      "cell_type": "code",
      "metadata": {
        "id": "ROrjNwnsEU-8",
        "colab_type": "code",
        "colab": {
          "base_uri": "https://localhost:8080/",
          "height": 136
        },
        "outputId": "eff7f90c-59a2-4196-858d-68f4a8f3fadc"
      },
      "source": [
        "print(X.shape, Y.shape)\n",
        "print(X[isamples])\n",
        "print(Y[isamples])"
      ],
      "execution_count": 3,
      "outputs": [
        {
          "output_type": "stream",
          "text": [
            "(150, 4) (150,)\n",
            "[[4.9 3.1 1.5 0.1]\n",
            " [7.2 3.2 6.  1.8]\n",
            " [5.7 4.4 1.5 0.4]\n",
            " [5.6 2.9 3.6 1.3]\n",
            " [5.7 2.5 5.  2. ]]\n",
            "[0 2 0 1 2]\n"
          ],
          "name": "stdout"
        }
      ]
    },
    {
      "cell_type": "code",
      "metadata": {
        "id": "yQpes7fHF8EV",
        "colab_type": "code",
        "colab": {
          "base_uri": "https://localhost:8080/",
          "height": 187
        },
        "outputId": "0300cc47-1135-40ef-c096-61aa9bbaf044"
      },
      "source": [
        "# Convert labels to categorical one-hot encoding\n",
        "Ny = len(np.unique(Y))\n",
        "Y = keras.utils.to_categorical(Y[:], num_classes = Ny)\n",
        "\n",
        "# Y is np.ndarray now\n",
        "\n",
        "print(\"X:\", X[isamples,:])\n",
        "print(\"Y:\", Y[isamples])"
      ],
      "execution_count": 4,
      "outputs": [
        {
          "output_type": "stream",
          "text": [
            "X: [[4.9 3.1 1.5 0.1]\n",
            " [7.2 3.2 6.  1.8]\n",
            " [5.7 4.4 1.5 0.4]\n",
            " [5.6 2.9 3.6 1.3]\n",
            " [5.7 2.5 5.  2. ]]\n",
            "Y: [[1. 0. 0.]\n",
            " [0. 0. 1.]\n",
            " [1. 0. 0.]\n",
            " [0. 1. 0.]\n",
            " [0. 0. 1.]]\n"
          ],
          "name": "stdout"
        }
      ]
    },
    {
      "cell_type": "code",
      "metadata": {
        "id": "bWQ7rzRZHRyR",
        "colab_type": "code",
        "colab": {
          "base_uri": "https://localhost:8080/",
          "height": 51
        },
        "outputId": "4445a38a-e761-4316-9c3a-30fc873c2408"
      },
      "source": [
        "# Train-test split (randomly into 80% - 20%)\n",
        "\n",
        "from sklearn.model_selection import train_test_split\n",
        "from sklearn.metrics import confusion_matrix\n",
        "X_train, X_test, Y_train, Y_test = train_test_split(X, Y, test_size = 0.20, random_state = 1)\n",
        "\n",
        "print(X_train.shape)\n",
        "print(X_test.shape)"
      ],
      "execution_count": 5,
      "outputs": [
        {
          "output_type": "stream",
          "text": [
            "(120, 4)\n",
            "(30, 4)\n"
          ],
          "name": "stdout"
        }
      ]
    },
    {
      "cell_type": "code",
      "metadata": {
        "id": "FC-5Fk51qlkb",
        "colab_type": "code",
        "colab": {
          "base_uri": "https://localhost:8080/",
          "height": 1000
        },
        "outputId": "250ccdff-58a4-4c02-8cba-a8b2643bbf88"
      },
      "source": [
        "# Data Scaling: scale X to zero-main and unit-variance\n",
        "\n",
        "from sklearn.preprocessing import StandardScaler\n",
        "scaler = StandardScaler()\n",
        "scaler.fit(X_train)                              # computes mean and std\n",
        "X_train = scaler.transform(X_train)\n",
        "X_test = scaler.transform(X_test)\n",
        "print(X_train)"
      ],
      "execution_count": 7,
      "outputs": [
        {
          "output_type": "stream",
          "text": [
            "[[ 0.31553662 -0.04578885  0.44767531  0.23380268]\n",
            " [ 2.2449325  -0.04578885  1.29769171  1.39742892]\n",
            " [-0.2873996  -1.24028061  0.05100098 -0.15407273]\n",
            " [ 0.67729835 -0.52358555  1.01435291  1.13884531]\n",
            " [-0.04622511 -0.52358555  0.73101411  1.52672073]\n",
            " [-0.64916132  1.62649961 -1.30902526 -1.31769898]\n",
            " [-0.40798684 -1.71807731  0.10766874  0.10451088]\n",
            " [-0.76974857  0.90980456 -1.36569302 -1.31769898]\n",
            " [ 0.79788559 -0.52358555  0.44767531  0.36309449]\n",
            " [ 1.03906007 -1.24028061  1.12768843  0.7509699 ]\n",
            " [ 1.15964732 -0.04578885  0.95768515  1.13884531]\n",
            " [-0.89033581  1.14870291 -1.36569302 -1.18840717]\n",
            " [ 0.19494938 -1.95697567  0.67434635  0.36309449]\n",
            " [ 0.5567111  -0.2846872   1.01435291  0.7509699 ]\n",
            " [ 0.91847283 -0.2846872   0.44767531  0.10451088]\n",
            " [ 2.2449325  -1.00138226  1.75103379  1.39742892]\n",
            " [-0.16681235  1.86539796 -1.19568974 -1.18840717]\n",
            " [-1.01092305  1.38760126 -1.36569302 -1.31769898]\n",
            " [-1.25209754 -0.04578885 -1.36569302 -1.18840717]\n",
            " [-0.76974857 -0.76248391  0.05100098  0.23380268]\n",
            " [-0.89033581  0.90980456 -1.30902526 -1.31769898]\n",
            " [-0.40798684  1.14870291 -1.42236078 -1.31769898]\n",
            " [ 2.2449325   1.86539796  1.63769827  1.26813712]\n",
            " [ 1.28023456  0.1931095   0.90101739  1.13884531]\n",
            " [ 1.76258353 -0.2846872   1.41102723  0.7509699 ]\n",
            " [ 0.67729835 -0.52358555  1.01435291  1.26813712]\n",
            " [ 0.43612386 -0.52358555  0.56101083  0.7509699 ]\n",
            " [ 0.19494938  0.90980456  0.39100755  0.49238629]\n",
            " [ 2.2449325  -0.52358555  1.63769827  1.00955351]\n",
            " [-0.16681235 -0.04578885  0.22100426 -0.02478093]\n",
            " [-1.25209754  0.90980456 -1.2523575  -1.31769898]\n",
            " [-0.16681235 -1.24028061  0.67434635  1.00955351]\n",
            " [ 0.5567111  -0.76248391  0.61767859  0.7509699 ]\n",
            " [-1.25209754 -0.04578885 -1.36569302 -1.44699078]\n",
            " [-1.37268478  0.43200785 -1.42236078 -1.31769898]\n",
            " [ 0.79788559 -0.04578885  1.12768843  1.26813712]\n",
            " [-1.49327202  0.90980456 -1.36569302 -1.18840717]\n",
            " [ 0.31553662 -0.04578885  0.61767859  0.7509699 ]\n",
            " [ 0.79788559  0.43200785  0.73101411  1.00955351]\n",
            " [ 1.03906007  0.1931095   0.33433978  0.23380268]\n",
            " [-0.16681235 -0.52358555  0.39100755  0.10451088]\n",
            " [ 1.03906007  0.6709062   1.07102067  1.65601253]\n",
            " [ 0.19494938 -0.04578885  0.56101083  0.7509699 ]\n",
            " [-0.89033581  1.86539796 -1.2523575  -1.31769898]\n",
            " [ 0.19494938 -1.95697567  0.10766874 -0.28336454]\n",
            " [ 0.67729835 -0.2846872   0.27767202  0.10451088]\n",
            " [ 0.79788559 -0.04578885  0.95768515  0.7509699 ]\n",
            " [-1.01092305 -1.71807731 -0.28900558 -0.28336454]\n",
            " [ 0.5567111   0.6709062   1.24102395  1.65601253]\n",
            " [-0.40798684 -1.24028061  0.10766874  0.10451088]\n",
            " [-0.52857408  1.62649961 -1.30902526 -1.31769898]\n",
            " [-1.13151029  0.1931095  -1.30902526 -1.31769898]\n",
            " [-0.76974857  2.58209302 -1.30902526 -1.44699078]\n",
            " [ 1.03906007  0.6709062   1.07102067  1.13884531]\n",
            " [-1.73444651 -0.04578885 -1.42236078 -1.31769898]\n",
            " [ 0.19494938 -0.76248391  0.73101411  0.49238629]\n",
            " [ 0.67729835 -0.76248391  0.84434963  0.8802617 ]\n",
            " [ 0.07436213 -0.04578885  0.73101411  0.7509699 ]\n",
            " [-0.76974857  1.14870291 -1.30902526 -1.31769898]\n",
            " [-0.89033581  0.6709062  -1.19568974 -0.92982356]\n",
            " [-0.04622511 -0.76248391  0.1643365  -0.28336454]\n",
            " [-1.13151029  0.1931095  -1.30902526 -1.44699078]\n",
            " [ 1.88317077 -0.52358555  1.29769171  0.8802617 ]\n",
            " [ 0.43612386 -0.2846872   0.27767202  0.10451088]\n",
            " [ 2.12434526 -0.04578885  1.58103051  1.13884531]\n",
            " [ 1.03906007 -0.04578885  0.78768187  1.39742892]\n",
            " [ 0.5567111  -1.71807731  0.33433978  0.10451088]\n",
            " [ 0.43612386  0.90980456  0.90101739  1.39742892]\n",
            " [ 1.64199629  1.38760126  1.29769171  1.65601253]\n",
            " [-0.2873996  -0.2846872  -0.1190023   0.10451088]\n",
            " [-0.16681235  3.29878808 -1.30902526 -1.05911537]\n",
            " [-0.04622511 -0.76248391  0.05100098 -0.02478093]\n",
            " [-1.61385927 -1.71807731 -1.42236078 -1.18840717]\n",
            " [-0.40798684 -1.47917896 -0.00566678 -0.15407273]\n",
            " [ 1.28023456  0.1931095   0.61767859  0.36309449]\n",
            " [-1.01092305  0.90980456 -1.2523575  -1.05911537]\n",
            " [ 1.15964732 -0.52358555  0.56101083  0.23380268]\n",
            " [-1.01092305  1.14870291 -1.2523575  -0.80053176]\n",
            " [-1.25209754  0.90980456 -1.08235422 -1.31769898]\n",
            " [ 0.5567111   0.90980456  1.01435291  1.52672073]\n",
            " [-0.2873996  -0.52358555  0.61767859  1.00955351]\n",
            " [ 1.15964732  0.43200785  1.18435619  1.39742892]\n",
            " [-1.01092305  0.6709062  -1.36569302 -1.31769898]\n",
            " [-0.89033581  1.62649961 -1.30902526 -1.05911537]\n",
            " [ 0.07436213  0.43200785  0.56101083  0.7509699 ]\n",
            " [-1.49327202  0.1931095  -1.30902526 -1.31769898]\n",
            " [-0.04622511 -0.76248391  0.73101411  0.8802617 ]\n",
            " [-1.25209754  0.1931095  -1.2523575  -1.31769898]\n",
            " [ 0.79788559 -0.04578885  0.78768187  1.00955351]\n",
            " [-1.13151029 -1.24028061  0.39100755  0.62167809]\n",
            " [-1.49327202  0.43200785 -1.36569302 -1.31769898]\n",
            " [ 0.67729835  0.43200785  0.84434963  1.39742892]\n",
            " [-1.85503375 -0.04578885 -1.5356963  -1.44699078]\n",
            " [-0.2873996  -0.04578885  0.1643365   0.10451088]\n",
            " [-1.73444651 -0.2846872  -1.36569302 -1.31769898]\n",
            " [-0.40798684 -1.47917896 -0.06233454 -0.28336454]\n",
            " [-1.01092305 -2.43477237 -0.17567006 -0.28336454]\n",
            " [-0.89033581  1.14870291 -1.36569302 -1.31769898]\n",
            " [-1.13151029 -0.04578885 -1.36569302 -1.31769898]\n",
            " [-1.13151029 -1.47917896 -0.28900558 -0.28336454]\n",
            " [-1.49327202  1.38760126 -1.59236406 -1.31769898]\n",
            " [ 0.07436213 -0.04578885  0.22100426  0.36309449]\n",
            " [ 0.31553662 -0.2846872   0.50434307  0.23380268]\n",
            " [-1.01092305  0.90980456 -1.30902526 -1.31769898]\n",
            " [ 1.03906007  0.1931095   0.50434307  0.36309449]\n",
            " [-0.16681235 -0.2846872   0.22100426  0.10451088]\n",
            " [ 0.43612386 -1.95697567  0.39100755  0.36309449]\n",
            " [ 1.4008218   0.43200785  0.50434307  0.23380268]\n",
            " [-0.04622511 -0.76248391  0.73101411  0.8802617 ]\n",
            " [-0.52857408  0.90980456 -1.19568974 -1.31769898]\n",
            " [-1.01092305 -0.04578885 -1.2523575  -1.31769898]\n",
            " [ 0.31553662 -1.00138226  1.01435291  0.23380268]\n",
            " [ 0.31553662 -0.52358555  0.10766874  0.10451088]\n",
            " [ 1.64199629 -0.04578885  1.12768843  0.49238629]\n",
            " [-0.16681235 -1.00138226 -0.17567006 -0.28336454]\n",
            " [ 0.5567111  -0.52358555  0.73101411  0.36309449]\n",
            " [ 0.67729835  0.1931095   0.95768515  0.7509699 ]\n",
            " [ 0.5567111  -1.24028061  0.61767859  0.36309449]\n",
            " [ 1.03906007  0.1931095   1.01435291  1.52672073]\n",
            " [-1.13151029  1.38760126 -1.36569302 -1.44699078]]\n"
          ],
          "name": "stdout"
        }
      ]
    },
    {
      "cell_type": "code",
      "metadata": {
        "id": "F_z0C-M_sNal",
        "colab_type": "code",
        "colab": {
          "base_uri": "https://localhost:8080/",
          "height": 272
        },
        "outputId": "54ae9ca5-58ac-46c4-dd39-f3da7c01a5c7"
      },
      "source": [
        "# Training with XW = Y\n",
        "\n",
        "add1col = lambda x: np.concatenate((x, np.ones((x.shape[0], 1))), axis=1)\n",
        "\n",
        "Ns, Nx = X_train.shape # (120, 4)\n",
        "\n",
        "XX = add1col(X_train)\n",
        "print(XX.shape)\n",
        "\n",
        "YY = Y_train\n",
        "print(YY.shape)\n",
        "\n",
        "W = np.linalg.inv(XX.T.dot(XX)).dot(XX.T.dot(YY))\n",
        "print(W)\n",
        "\n",
        "def evaluate (X, W, Yd):\n",
        "  '''\n",
        "     X is np.array (Nsample, Nfeats);\n",
        "     Yd is np.array (Nsample, Nonehot)\n",
        "  '''\n",
        "  x = add1col(X)\n",
        "  yd = np.argmax(Yd, axis=1)\n",
        "  y = np.argmax(x.dot(W), axis=1)\n",
        "  print(\"CM:\")\n",
        "  print(confusion_matrix(yd, y))\n",
        "\n",
        "evaluate(X_train, W, Y_train)\n",
        "evaluate(X_test, W, Y_test)\n"
      ],
      "execution_count": 11,
      "outputs": [
        {
          "output_type": "stream",
          "text": [
            "(120, 5)\n",
            "(120, 3)\n",
            "[[ 0.06062508  0.05806364 -0.11868873]\n",
            " [ 0.10258458 -0.21112954  0.10854496]\n",
            " [-0.4070331   0.22897614  0.17805695]\n",
            " [-0.03856453 -0.30252108  0.34108561]\n",
            " [ 0.325       0.30833333  0.36666667]]\n",
            "CM:\n",
            "[[39  0  0]\n",
            " [ 0 22 15]\n",
            " [ 0  4 40]]\n",
            "CM:\n",
            "[[11  0  0]\n",
            " [ 0  6  7]\n",
            " [ 0  0  6]]\n"
          ],
          "name": "stdout"
        }
      ]
    },
    {
      "cell_type": "code",
      "metadata": {
        "id": "fbQBItc5wQoj",
        "colab_type": "code",
        "colab": {
          "base_uri": "https://localhost:8080/",
          "height": 340
        },
        "outputId": "5927a7da-766f-49da-c741-37a61280c19f"
      },
      "source": [
        "# With more non-linearity in X, for XW = Y\n",
        "\n",
        "addSq1col = lambda x: np.concatenate((x, x**2, np.ones((x.shape[0], 1))), axis=1)\n",
        "Ns, Nx = X_train.shape\n",
        "\n",
        "XX = addSq1col(X_train)\n",
        "print(XX.shape)\n",
        "\n",
        "YY = Y_train\n",
        "print(YY.shape)\n",
        "W = np.linalg.inv(XX.T.dot(XX)).dot(XX.T.dot(YY))\n",
        "print(W)\n",
        "\n",
        "\n",
        "def evaluate(X, W, Yd):\n",
        "  '''\n",
        "     X is np.array (Nsamples, Nfeats),\n",
        "     Yd is np.array (Nsamples, Nonehot)\n",
        "  '''\n",
        "\n",
        "  x = addSq1col(X)\n",
        "  yd = np.argmax(Yd, axis=1)\n",
        "  y = np.argmax(x.dot(W), axis = 1)\n",
        "  print(\"CM:\")\n",
        "  print(confusion_matrix(yd, y))\n",
        "\n",
        "evaluate(X_train, W, Y_train)\n",
        "evaluate(X_test, W, Y_test)"
      ],
      "execution_count": 13,
      "outputs": [
        {
          "output_type": "stream",
          "text": [
            "(120, 9)\n",
            "(120, 3)\n",
            "[[ 0.02212851  0.1284788  -0.15060731]\n",
            " [ 0.02261966  0.00396191 -0.02658157]\n",
            " [-0.31265762 -0.00385162  0.31650925]\n",
            " [-0.05916917 -0.24649968  0.30566885]\n",
            " [-0.03340995  0.13233974 -0.09892979]\n",
            " [-0.00993575  0.01269958 -0.00276383]\n",
            " [ 0.21451737 -0.58556233  0.37104496]\n",
            " [ 0.04009892 -0.0947794   0.05468048]\n",
            " [ 0.1137294   0.84363575  0.04263485]]\n",
            "CM:\n",
            "[[39  0  0]\n",
            " [ 0 35  2]\n",
            " [ 0  2 42]]\n",
            "CM:\n",
            "[[11  0  0]\n",
            " [ 0 13  0]\n",
            " [ 0  0  6]]\n"
          ],
          "name": "stdout"
        }
      ]
    },
    {
      "cell_type": "code",
      "metadata": {
        "id": "K2MAwuyH3Ozy",
        "colab_type": "code",
        "colab": {
          "base_uri": "https://localhost:8080/",
          "height": 272
        },
        "outputId": "ce3e75ab-161d-4fa2-8591-0fdd00f15da7"
      },
      "source": [
        "# For under-determined system\n",
        "\n",
        "add1col = lambda x: np.concatenate((x, np.ones((x.shape[0], 1))), axis=1)\n",
        "ind = np.random.choice(range(X_train.shape[0]), size=12, replace=False)\n",
        "\n",
        "XX= X_train[ind, :]\n",
        "XX = add1col(XX)\n",
        "\n",
        "YY = Y_train[ind, :]\n",
        "YY = add1col(YY)\n",
        "\n",
        "W = XX.T.dot(np.linalg.inv(XX.dot(XX.T)).T.dot(YY))     # X' = (XX') ^(-1)Y\n",
        "\n",
        "print(W, XX.shape, YY.shape)\n",
        "\n",
        "def evaluate(X, W, Yd):\n",
        "  '''\n",
        "     X is np.array (Nsamples, Nfeats),\n",
        "     Yd is np.array (Nsamples, Nonehot)\n",
        "  '''\n",
        "\n",
        "  x = add1col(X)\n",
        "  yd = np.argmax(Yd, axis=1)\n",
        "  y = np.argmax(x.dot(W), axis=1)\n",
        "  print(\"CM:\")\n",
        "  print(confusion_matrix(yd, y))\n",
        "\n",
        "evaluate(X_train[ind, :], W, YY)\n",
        "evaluate(X_test, W, Y_test)\n",
        "\n",
        "                     "
      ],
      "execution_count": 18,
      "outputs": [
        {
          "output_type": "stream",
          "text": [
            "[[-1.14170893  1.2561653  -1.38162831 -0.44221603]\n",
            " [-0.18052177  2.46543779 -1.32396847  0.31971318]\n",
            " [ 0.26145432 -4.15378119  3.37342124 -0.09155385]\n",
            " [-1.32834135  4.20719101 -3.78105649  0.04373699]\n",
            " [ 0.8125     -2.125       2.25        0.84375   ]] (12, 5) (12, 4)\n",
            "CM:\n",
            "[[1 0 2 0]\n",
            " [0 0 6 1]\n",
            " [0 0 2 0]\n",
            " [0 0 0 0]]\n",
            "CM:\n",
            "[[ 5  4  2  0]\n",
            " [ 0  0 12  1]\n",
            " [ 0  3  2  1]\n",
            " [ 0  0  0  0]]\n"
          ],
          "name": "stdout"
        }
      ]
    },
    {
      "cell_type": "code",
      "metadata": {
        "id": "GjhgULh94N1N",
        "colab_type": "code",
        "colab": {
          "base_uri": "https://localhost:8080/",
          "height": 306
        },
        "outputId": "38f79d15-0e14-4a21-83c0-977773dcb006"
      },
      "source": [
        "  # For under-determined system with sqaure input features\n",
        "\n",
        "addSq1col = lambda x: np.concatenate((x, x**2, np.ones((x.shape[0], 1))), axis=1)\n",
        "ind = np.random.choice(range(X_train.shape[0]), size=25, replace=False)\n",
        "XX = X_train[ind,:]\n",
        "XX = addSq1col(XX)\n",
        "YY = Y_train[ind,:]\n",
        "W = XX.T.dot(np.linalg.inv(XX.dot(XX.T)).T.dot(YY))\n",
        "\n",
        "print(W, XX.shape, YY.shape)\n",
        "\n",
        "def evaluate(X, W, Yd):\n",
        "   '''\n",
        "     X is np.array (Nsamples, Nfeats),\n",
        "     Yd is np.array (Nsamples, Nonehot)\n",
        "   '''\n",
        "   x = addSq1col(X)\n",
        "   yd = np.argmax(Yd, axis=1)\n",
        "   y = np.argmax(x.dot(W), axis=1)\n",
        "   print(\"CM:\")\n",
        "   print(confusion_matrix(yd, y))\n",
        "\n",
        "evaluate(X_train[ind, :], W, YY)\n",
        "evaluate(X_test, W, Y_test)"
      ],
      "execution_count": 35,
      "outputs": [
        {
          "output_type": "stream",
          "text": [
            "[[ 0.41615363 -1.32909283  1.04539054]\n",
            " [ 0.56232612  1.62905066 -0.72863816]\n",
            " [ 0.40222444 -0.67292253  0.37510919]\n",
            " [ 0.5113769   0.5353144  -0.28314039]\n",
            " [ 0.57311778 -5.89077362  2.42224719]\n",
            " [-0.40075492 -5.24185619  0.93005467]\n",
            " [ 1.24215614 -4.24169714  2.3487848 ]\n",
            " [ 0.85715498 -1.88040696  0.46110321]\n",
            " [ 0.77734375 -3.5390625   0.3125    ]] (25, 9) (25, 3)\n",
            "CM:\n",
            "[[ 0  0  6]\n",
            " [ 1  0  6]\n",
            " [ 2  0 10]]\n",
            "CM:\n",
            "[[ 0  0 11]\n",
            " [ 3  0 10]\n",
            " [ 0  0  6]]\n"
          ],
          "name": "stdout"
        }
      ]
    }
  ]
}